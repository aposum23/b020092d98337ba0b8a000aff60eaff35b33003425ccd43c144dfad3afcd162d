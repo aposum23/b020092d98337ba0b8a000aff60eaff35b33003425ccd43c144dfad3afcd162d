{
 "cells": [
  {
   "cell_type": "code",
   "execution_count": 1,
   "id": "aa03a7e3",
   "metadata": {
    "ExecuteTime": {
     "end_time": "2023-09-27T08:55:23.689835200Z",
     "start_time": "2023-09-27T08:55:23.638636200Z"
    }
   },
   "outputs": [],
   "source": [
    "import requests\n",
    "import json"
   ]
  },
  {
   "cell_type": "code",
   "execution_count": 26,
   "id": "30f4e1ef",
   "metadata": {
    "scrolled": false
   },
   "outputs": [
    {
     "name": "stdout",
     "output_type": "stream",
     "text": [
      "{\n",
      "  \"response\": {\n",
      "    \"bank_info\": [\n",
      "      {\n",
      "        \"bank_name\": \"Test bank\",\n",
      "        \"latitude\": \"7.7700\",\n",
      "        \"load_type\": \"Small\",\n",
      "        \"longitude\": \"3.9900\",\n",
      "        \"services\": \"Pomogaet horosho\",\n",
      "        \"work_hours\": \"Pon 12:00-14:00\"\n",
      "      }\n",
      "    ]\n",
      "  }\n",
      "}\n"
     ]
    }
   ],
   "source": [
    "url = 'http://127.0.0.1:5000'\n",
    "\n",
    "get_bank_info = {'id': 1}\n",
    "\n",
    "x = requests.post(url + '/hack/API/v1.0/get_extended_info', json=get_bank_info)\n",
    "\n",
    "print(x.text)\n",
    "\n",
    "#/api/add/item /api/delete/item  /api/filter /api/add/event"
   ]
  },
  {
   "cell_type": "code",
   "execution_count": 14,
   "id": "9481a5e1",
   "metadata": {},
   "outputs": [],
   "source": [
    "#id = 8 {'publicKey': '0xDf22De63F4D16E2098c3bb215f20BBbAD53Fb93C', 'privateKey': '6822fdce8586a2808810c0ad327df7fb59b48cb1188332a72090e2c709a10902'}"
   ]
  }
 ],
 "metadata": {
  "kernelspec": {
   "display_name": "Python 3 (ipykernel)",
   "language": "python",
   "name": "python3"
  },
  "language_info": {
   "codemirror_mode": {
    "name": "ipython",
    "version": 3
   },
   "file_extension": ".py",
   "mimetype": "text/x-python",
   "name": "python",
   "nbconvert_exporter": "python",
   "pygments_lexer": "ipython3",
   "version": "3.8.16"
  }
 },
 "nbformat": 4,
 "nbformat_minor": 5
}
